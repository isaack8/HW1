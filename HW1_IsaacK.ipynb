{
 "cells": [
  {
   "cell_type": "code",
   "execution_count": null,
   "metadata": {},
   "outputs": [],
   "source": [
    "import pandas as pd\n",
    "import matplotlib.pyplot as plt\n",
    "import numpy as np"
   ]
  },
  {
   "cell_type": "code",
   "execution_count": null,
   "metadata": {},
   "outputs": [],
   "source": [
    "df = pd.read_csv(\"HCEPDB_moldata.csv\")\n",
    "df"
   ]
  },
  {
   "cell_type": "code",
   "execution_count": null,
   "metadata": {},
   "outputs": [],
   "source": [
    "# Information regarding the molecular weight of all compounds in the dataset:\n",
    "\n",
    "display(df['mass'].describe())"
   ]
  },
  {
   "cell_type": "code",
   "execution_count": null,
   "metadata": {},
   "outputs": [],
   "source": [
    "# Molecular weights of compounds 3, 4, and 5, as well as their average:\n",
    "\n",
    "display(df['mass'].iloc[3:6])\n",
    "df['mass'].iloc[3:6].mean()"
   ]
  },
  {
   "cell_type": "code",
   "execution_count": null,
   "metadata": {},
   "outputs": [],
   "source": [
    "# Bar graph of molecular weight statistics\n",
    "\n",
    "list = ('Min', 'Max', 'Median', 'Mean')\n",
    "data = [df['mass'].min(), df['mass'].max(), df['mass'].median(), df['mass'].mean()]\n",
    "y_pos = np.arange(len(list))\n",
    "plt.bar(y_pos, data, align='center',alpha=0.5)\n",
    "plt.xticks(y_pos, list)\n",
    "plt.ylabel('Molecular Weight [g/mol]')\n",
    "plt.title('Molecular Weight Data of HCEPDB')"
   ]
  },
  {
   "cell_type": "code",
   "execution_count": null,
   "metadata": {},
   "outputs": [],
   "source": [
    "# Add a new column of smiley faces to the right of the \"mass\" column\n",
    "\n",
    "df.insert(4, 'Smileys', ':)')\n",
    "df"
   ]
  },
  {
   "cell_type": "code",
   "execution_count": null,
   "metadata": {},
   "outputs": [],
   "source": [
    "# Show all rows (compounds) with molecular weights less than 175 [g/mol]\n",
    "df[df['mass'] <= 175]"
   ]
  }
 ],
 "metadata": {
  "kernelspec": {
   "display_name": "Python 3",
   "language": "python",
   "name": "python3"
  },
  "language_info": {
   "codemirror_mode": {
    "name": "ipython",
    "version": 3
   },
   "file_extension": ".py",
   "mimetype": "text/x-python",
   "name": "python",
   "nbconvert_exporter": "python",
   "pygments_lexer": "ipython3",
   "version": "3.7.1"
  }
 },
 "nbformat": 4,
 "nbformat_minor": 2
}
